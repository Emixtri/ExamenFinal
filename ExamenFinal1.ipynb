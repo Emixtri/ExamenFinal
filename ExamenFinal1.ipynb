{
  "nbformat": 4,
  "nbformat_minor": 0,
  "metadata": {
    "colab": {
      "provenance": [],
      "authorship_tag": "ABX9TyOrE8T5C9LqfRRYESQ3123I",
      "include_colab_link": true
    },
    "kernelspec": {
      "name": "python3",
      "display_name": "Python 3"
    },
    "language_info": {
      "name": "python"
    }
  },
  "cells": [
    {
      "cell_type": "markdown",
      "metadata": {
        "id": "view-in-github",
        "colab_type": "text"
      },
      "source": [
        "<a href=\"https://colab.research.google.com/github/Emixtri/ExamenFinal/blob/main/ExamenFinal1.ipynb\" target=\"_parent\"><img src=\"https://colab.research.google.com/assets/colab-badge.svg\" alt=\"Open In Colab\"/></a>"
      ]
    },
    {
      "cell_type": "code",
      "execution_count": 3,
      "metadata": {
        "colab": {
          "base_uri": "https://localhost:8080/"
        },
        "id": "4ZxeHLHcmrnH",
        "outputId": "62428a7e-9c0c-4d76-8b4a-bd5ffee3c39a"
      },
      "outputs": [
        {
          "output_type": "stream",
          "name": "stdout",
          "text": [
            "Este es un proyecto de phyton que hace función factorial\n",
            "Factorial de 5 es : 120\n"
          ]
        }
      ],
      "source": [
        "print(\"Este es un proyecto de phyton que hace función factorial\")\n",
        "\n",
        "def factorial(num): \n",
        "    if num < 0: \n",
        "        print(\"Factorial of negative num does not exist\")\n",
        "\n",
        "    elif num == 0: \n",
        "        return 1\n",
        "        \n",
        "    else: \n",
        "        fact = 1\n",
        "        while(num > 1): \n",
        "            fact *= num \n",
        "            num -= 1\n",
        "        return fact \n",
        "\n",
        "num = 5; \n",
        "\n",
        "print(\"Factorial de\",num,\"es :\", factorial(num)) "
      ]
    }
  ]
}