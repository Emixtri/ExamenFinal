{
  "nbformat": 4,
  "nbformat_minor": 0,
  "metadata": {
    "colab": {
      "provenance": [],
      "authorship_tag": "ABX9TyPePYEbbzw+ofRQhXK4ykOj",
      "include_colab_link": true
    },
    "kernelspec": {
      "name": "python3",
      "display_name": "Python 3"
    },
    "language_info": {
      "name": "python"
    }
  },
  "cells": [
    {
      "cell_type": "markdown",
      "metadata": {
        "id": "view-in-github",
        "colab_type": "text"
      },
      "source": [
        "<a href=\"https://colab.research.google.com/github/Emixtri/ExamenFinal/blob/main/ExamenFinal1.ipynb\" target=\"_parent\"><img src=\"https://colab.research.google.com/assets/colab-badge.svg\" alt=\"Open In Colab\"/></a>"
      ]
    },
    {
      "cell_type": "code",
      "execution_count": 3,
      "metadata": {
        "colab": {
          "base_uri": "https://localhost:8080/"
        },
        "id": "4ZxeHLHcmrnH",
        "outputId": "62428a7e-9c0c-4d76-8b4a-bd5ffee3c39a"
      },
      "outputs": [
        {
          "output_type": "stream",
          "name": "stdout",
          "text": [
            "Este es un proyecto de phyton que hace función factorial\n",
            "Factorial de 5 es : 120\n"
          ]
        }
      ],
      "source": [
        "print(\"Este es un proyecto de phyton que hace función factorial\")\n",
        "\n",
        "def factorial(num): \n",
        "    if num < 0: \n",
        "        print(\"Factorial of negative num does not exist\")\n",
        "\n",
        "    elif num == 0: \n",
        "        return 1\n",
        "        \n",
        "    else: \n",
        "        fact = 1\n",
        "        while(num > 1): \n",
        "            fact *= num \n",
        "            num -= 1\n",
        "        return fact \n",
        "\n",
        "num = 5; \n",
        "\n",
        "print(\"Factorial de\",num,\"es :\", factorial(num)) "
      ]
    },
    {
      "cell_type": "code",
      "source": [
        "\n",
        "def fibonacciSeries(Number):\n",
        "    if(Number == 0):\n",
        "        return 0\n",
        "    elif(Number == 1):\n",
        "        return 1\n",
        "    else:\n",
        "        return (fibonacciSeries(Number - 1) + fibonacciSeries(Number - 2))\n",
        "\n",
        "n = int(input())\n",
        "print(\"Serie fibonacci:\", end = ' ')\n",
        "for n in range(0, n):  \n",
        "   print(fibonacciSeries(n), end = ' ')"
      ],
      "metadata": {
        "colab": {
          "base_uri": "https://localhost:8080/"
        },
        "id": "9tOGQguNpp_6",
        "outputId": "e9245429-82a8-4d9a-a078-f878a761d571"
      },
      "execution_count": 5,
      "outputs": [
        {
          "output_type": "stream",
          "name": "stdout",
          "text": [
            "6\n",
            "Serie fibonacci: 0 1 1 2 3 5 "
          ]
        }
      ]
    }
  ]
}